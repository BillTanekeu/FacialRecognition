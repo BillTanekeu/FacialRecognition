{
 "cells": [
  {
   "cell_type": "markdown",
   "metadata": {},
   "source": [
    "DESCRIPTION DU PROJET:\n",
    "\n",
    "Nous allons dans ce travail pratique effectuer la classification de visage en utilisant la combinaison LBP BASIQUE + SVM\n",
    "\n",
    "LBP nous servira pour l'extraction des caractéristiques tandisque SVM sert à la classification.\n",
    "\n",
    "Le jeu de données utilisé provient d'un laboratoire Anglais, il s'agit de 40 personnes filmées 10 fois chacunes puis \n",
    "\n",
    "regroupés au sein d'un dossier , l'ensemble contenus dans un dossier parent. Nous avons donc exactement 40*10=400 images au format PGM\n",
    "\n",
    "binaire et toutes de dimensions égales(92*112)"
   ]
  },
  {
   "cell_type": "markdown",
   "metadata": {},
   "source": []
  },
  {
   "cell_type": "markdown",
   "metadata": {},
   "source": [
    "Les étapes de ce projet sont :\n",
    "\n",
    "1- Collecte de données(déja décrit précedemment)   \n",
    "\n",
    "2- prétraitement : ici nos images sont déja en niveau de gris et de tailles égales , donc plus besoin de convertir ou de redimensionner\n",
    "\n",
    "3- Extraction des caractéristiques : nous nous servirons de l'approche LBP BASIQUE;\n",
    "pour une image quelconque , recupérer sa matrice de pixels, déterminer la matrice LBP correspondante puis l'histogramme de l'image LBP\n",
    "\n",
    "4- Séparation des données en train et test: les données ici seront nos histogrammes\n",
    "\n",
    "5- Entrainement du modèle: nous allons entrainer notre SVM sur les données de train obtenues après séparation\n",
    "\n",
    "6- Amélioration du modèle: nous nous servirons de l'approche grid search pour peaufiner notre modèle\n",
    "\n",
    "7- Classification de nouvelles images: nous définirons une approche de classification de nouvelles de données en utilisant le modèles amélioré "
   ]
  },
  {
   "cell_type": "markdown",
   "metadata": {},
   "source": []
  },
  {
   "cell_type": "markdown",
   "metadata": {},
   "source": [
    "1- IMPORTATION DES BIBLIOTHEQUES"
   ]
  },
  {
   "cell_type": "code",
   "execution_count": 1,
   "metadata": {},
   "outputs": [],
   "source": [
    "import os\n",
    "from PIL import Image\n",
    "import matplotlib.pyplot as plt\n",
    "import numpy as np\n",
    "import pandas as pd\n",
    "from sklearn.model_selection import train_test_split\n",
    "from sklearn.svm import SVC\n",
    "from sklearn.metrics import confusion_matrix\n",
    "from sklearn.model_selection import cross_val_score\n",
    "import pickle"
   ]
  },
  {
   "cell_type": "markdown",
   "metadata": {},
   "source": [
    "2- DEFINITION DE LA FONCTION QUI PREND EN ENTREE UNE IMAGE ET RETOURNE SON VECTEUR DE PIXELS"
   ]
  },
  {
   "cell_type": "code",
   "execution_count": 2,
   "metadata": {},
   "outputs": [],
   "source": [
    "def extract(imag):\n",
    "    with open(imag , 'rb') as f:   #ouvrir le fichier en mode lecture binaire\n",
    "        magic_num = f.readline().strip()     # strip() pour supprimer les espaces \n",
    "        width , height = map(int , f.readline().split())\n",
    "        max_val = int(f.readline())\n",
    "        pixls =[]\n",
    "        for _ in range(width):\n",
    "            row = []\n",
    "            for _ in range(height):\n",
    "                byte = f.read(1)\n",
    "                pix_val = int.from_bytes(byte , byteorder='big')\n",
    "                row.append(pix_val)\n",
    "            pixls.append(row)\n",
    "    return np.array(pixls)"
   ]
  },
  {
   "cell_type": "code",
   "execution_count": 3,
   "metadata": {},
   "outputs": [
    {
     "name": "stdout",
     "output_type": "stream",
     "text": [
      "(92, 112)\n"
     ]
    }
   ],
   "source": [
    "print(extract('archive (1)/s1/1.pgm').shape)"
   ]
  },
  {
   "cell_type": "markdown",
   "metadata": {},
   "source": [
    "2- EXTRACTIOONS DES MATRICES DE PIXELS DE TOUTES NOS DONNÉES"
   ]
  },
  {
   "cell_type": "code",
   "execution_count": 4,
   "metadata": {},
   "outputs": [
    {
     "name": "stdout",
     "output_type": "stream",
     "text": [
      "400 400\n"
     ]
    }
   ],
   "source": [
    "\n",
    "\n",
    "def Lecture_fichiers(chemin_acces):\n",
    "    images = []\n",
    "    target = []\n",
    "    for folder_name in os.listdir(chemin_acces):\n",
    "        folder_path = os.path.join(chemin_acces , folder_name)\n",
    "        if os.path.isdir(folder_path):\n",
    "            for image_name in os.listdir(folder_path):\n",
    "                image_path = os.path.join(folder_path , image_name)\n",
    "                if image_path.endswith('.pgm'):\n",
    "                    image = extract(image_path)\n",
    "                    images.append(image)\n",
    "                    target.append(int(folder_name[1:]))\n",
    "    return images , target                \n",
    "\n",
    "A , B = Lecture_fichiers(\"archive (1)\")\n",
    "print(len(A),len(B))"
   ]
  },
  {
   "cell_type": "code",
   "execution_count": 18,
   "metadata": {},
   "outputs": [],
   "source": [
    "def renameFile(racine):\n",
    "    for folder in os.listdir(racine):\n",
    "        pathFolder = os.path.join(racine, folder)\n",
    "        for img in os.listdir(pathFolder):\n",
    "            os.rename(pathFolder+'/'+img, pathFolder+'/'+img[0:len(img)-4]+'_{}'.format(folder) + '.pgm')"
   ]
  },
  {
   "cell_type": "code",
   "execution_count": 19,
   "metadata": {},
   "outputs": [],
   "source": [
    "renameFile('archive (1)')"
   ]
  },
  {
   "cell_type": "markdown",
   "metadata": {},
   "source": [
    "3- DÉFINITION DE LA FONCTION QUI PREND UNE MATRICE DE PIXELS ET RENVOIT LA MATRICES LBP BASIQUE ASSOCIÉE\n",
    "\n",
    "UTILISATION DE CETTE FONCTION POUR REPRÉSENTER LES MATRICES LBP ISSUES DES MATRICES DE PIXELS PRÉCÉDENTES"
   ]
  },
  {
   "cell_type": "code",
   "execution_count": 5,
   "metadata": {},
   "outputs": [],
   "source": [
    "def LBP_function (image):\n",
    "    longueur , largeur = image.shape[0] , image.shape[1]\n",
    "    lbp_image = np.zeros((longueur - 2 , largeur - 2),int)\n",
    "    for i in range(1 , longueur -1):\n",
    "        for j in range(1 , largeur -1):\n",
    "            pixels_voisins = [image[i-1][j-1] , image[i-1][j] , image[i-1][j+1] , image[i][j+1],\n",
    "                                  image[i+1][j+1] , image[i+1][j] , image[i+1][j-1] , image[i][j-1]]\n",
    "            for n in range(len(pixels_voisins)):\n",
    "                if pixels_voisins[n] >= image[i][j]:\n",
    "                    lbp_image[i-1][j-1] = lbp_image[i-1][j-1]+2**n \n",
    "    return lbp_image            "
   ]
  },
  {
   "cell_type": "code",
   "execution_count": 6,
   "metadata": {},
   "outputs": [],
   "source": [
    "def createPGM(matrix):\n",
    "    with open('image.pgm', 'wb') as f:\n",
    "        f.write(b'P5\\n')\n",
    "        f.write('{} {}\\n'.format(len(matrix),len(matrix[0])).encode())\n",
    "        f.write(b'255\\n')\n",
    "        f.write(matrix.astype(np.uint8).tobytes())"
   ]
  },
  {
   "cell_type": "code",
   "execution_count": 7,
   "metadata": {},
   "outputs": [],
   "source": [
    "createPGM(LBP_function( extract('archive (1)/s1/1.pgm')))"
   ]
  },
  {
   "cell_type": "code",
   "execution_count": null,
   "metadata": {},
   "outputs": [],
   "source": []
  },
  {
   "cell_type": "code",
   "execution_count": 8,
   "metadata": {},
   "outputs": [],
   "source": [
    "\n",
    "def LBP_function_final(liste_imag):\n",
    "    list_lbp_img = []\n",
    "    for imag in liste_imag:\n",
    "        lbp = LBP_function(imag)\n",
    "        list_lbp_img.append(lbp)\n",
    "    return list_lbp_img\n",
    "\n",
    "RS = LBP_function_final(A)\n"
   ]
  },
  {
   "cell_type": "markdown",
   "metadata": {},
   "source": [
    "4- DEFINITION DE LA FONCTION QUI Prend UNE MATRICE IMAGE LBP ET RENVOIE SON HISTOGRAMME\n",
    "\n",
    "(on utilisera le fénètrage en précisant la dimension en paramètre aussi)\n",
    "\n",
    "APPLICATIONDE LA FONCTION HISTOGRAMME SUR TOUTES NOS IMAGES LBP AFIN D'OBTENIR L'HISTOGRAMME DE CHACUNE"
   ]
  },
  {
   "cell_type": "code",
   "execution_count": 9,
   "metadata": {},
   "outputs": [],
   "source": [
    "def histogramme(img_lbp , window = 10):\n",
    "    hist_courant = []\n",
    "    longueur , largeur = img_lbp.shape[0] , img_lbp.shape[1]\n",
    "    for i in range(0 , longueur-window+1 , window):\n",
    "        for j in range(0 , largeur-window+1 , window):\n",
    "            hist = [0]*256\n",
    "            for x in range(i , i+window):\n",
    "                for y in range(j , j+window):\n",
    "                    val = img_lbp[x][y]\n",
    "                    hist[val] += 1\n",
    "            hist /=np.sum(hist)\n",
    "            hist_courant.append(hist)\n",
    "    total_hist = list(hist_courant[0])\n",
    "    for h in range(1 , len(hist_courant)):\n",
    "        total_hist += list( hist_courant[h])\n",
    "    return total_hist\n"
   ]
  },
  {
   "cell_type": "code",
   "execution_count": null,
   "metadata": {},
   "outputs": [],
   "source": []
  },
  {
   "cell_type": "code",
   "execution_count": null,
   "metadata": {},
   "outputs": [],
   "source": []
  },
  {
   "cell_type": "code",
   "execution_count": 10,
   "metadata": {},
   "outputs": [],
   "source": [
    "\n",
    "\n",
    "def histigramme_final(liste_img_lbp ,  window_ = 10):\n",
    "    liste_hist = []\n",
    "    for img_lbp in liste_img_lbp:\n",
    "        liste_hist.append(histogramme(img_lbp , window_ ))\n",
    "    return liste_hist"
   ]
  },
  {
   "cell_type": "code",
   "execution_count": 11,
   "metadata": {},
   "outputs": [
    {
     "name": "stdout",
     "output_type": "stream",
     "text": [
      "25344\n"
     ]
    }
   ],
   "source": [
    "\n",
    "RS_hist = histigramme_final(RS, 10)\n",
    "print(len(RS_hist[0]))"
   ]
  },
  {
   "cell_type": "markdown",
   "metadata": {},
   "source": [
    "5- DÉFINITION DU JEU DE DONNÉES\n",
    "\n",
    "histogrammes comme caractéristiques et numéro de la personne \n",
    "\n",
    "dont provient l'histogramme comme étiquette puis séparation en train et test"
   ]
  },
  {
   "cell_type": "code",
   "execution_count": 12,
   "metadata": {},
   "outputs": [
    {
     "name": "stdout",
     "output_type": "stream",
     "text": [
      "320\n"
     ]
    }
   ],
   "source": [
    "X , Y = RS_hist , B\n",
    "test_size = 0.2\n",
    "X_train, X_test , Y_train , Y_test= train_test_split(X , Y ,test_size=test_size, random_state=0 )\n",
    "print(len(X_train))"
   ]
  },
  {
   "cell_type": "markdown",
   "metadata": {},
   "source": [
    "6- DÉFINITION De DEUX MODÈLES SVM , l'un utilisant le noyau RBF  et l'autre le noyau linéaire"
   ]
  },
  {
   "cell_type": "code",
   "execution_count": 13,
   "metadata": {},
   "outputs": [
    {
     "data": {
      "text/plain": [
       "SVC(C=1, kernel='linear')"
      ]
     },
     "execution_count": 13,
     "metadata": {},
     "output_type": "execute_result"
    }
   ],
   "source": [
    "model1 = SVC(kernel= 'rbf' , C=1)\n",
    "model1.fit(X_train, Y_train)\n",
    "\n",
    "model2 = SVC(kernel= 'linear' , C=1)\n",
    "model2.fit(X_train, Y_train)"
   ]
  },
  {
   "cell_type": "markdown",
   "metadata": {},
   "source": [
    "7- ÉVALUATION DES MODÈLES SUR LE JEU DE TEST"
   ]
  },
  {
   "cell_type": "code",
   "execution_count": 14,
   "metadata": {},
   "outputs": [
    {
     "name": "stdout",
     "output_type": "stream",
     "text": [
      "prédiction du modèle avec noyau RBF:\t 33.75\n",
      "\n",
      "prédiction du modèle avec noyau Linéaire: 96.25\n"
     ]
    }
   ],
   "source": [
    "accuracy = model1.score(X_test, Y_test)\n",
    "print('prédiction du modèle avec noyau RBF:\\t',accuracy*100)\n",
    "\n",
    "accuracy = model2.score(X_test, Y_test)\n",
    "print('\\nprédiction du modèle avec noyau Linéaire:',accuracy*100)"
   ]
  },
  {
   "cell_type": "code",
   "execution_count": null,
   "metadata": {},
   "outputs": [],
   "source": []
  },
  {
   "cell_type": "code",
   "execution_count": 26,
   "metadata": {},
   "outputs": [
    {
     "name": "stdout",
     "output_type": "stream",
     "text": [
      "[40 14 39 32 36 19 40 39 39  3]\n",
      "[ 5 28 22 32 36 19  6 11 16 12]\n",
      "[5, 28, 22, 32, 36, 19, 6, 11, 24, 12]\n"
     ]
    }
   ],
   "source": [
    "print(model1.predict(X_test[0:10]))\n",
    "print(model2.predict(X_test[:10]))\n",
    "print(Y_test[:10])"
   ]
  },
  {
   "cell_type": "markdown",
   "metadata": {},
   "source": []
  },
  {
   "cell_type": "markdown",
   "metadata": {},
   "source": [
    "on constate pour un premier essai que le noyau linéaire a tendance à etre plus performant\n",
    "\n",
    "cependant nous allons utiliser gridseacrhCV avec ces deux noyaux et avec des valeurs de C différentes"
   ]
  },
  {
   "cell_type": "code",
   "execution_count": 17,
   "metadata": {},
   "outputs": [],
   "source": [
    "from sklearn.model_selection import GridSearchCV\n",
    "svc = SVC()\n",
    "parameters = {'kernel' : ['linear' , 'rbf'] , 'C' : [1 , 4 , 10 , 15]}\n",
    "model_affine =GridSearchCV(svc , parameters ,cv = 3 , n_jobs = -1) \n",
    "model_affine.fit(X_train ,Y_train)"
   ]
  },
  {
   "cell_type": "code",
   "execution_count": null,
   "metadata": {},
   "outputs": [
    {
     "name": "stdout",
     "output_type": "stream",
     "text": [
      "{'C': 1, 'kernel': 'linear'}\n",
      "97.5\n"
     ]
    }
   ],
   "source": [
    "print(model_affine.best_params_)\n",
    "print(model_affine.score(X_test , Y_test)*100)"
   ]
  },
  {
   "cell_type": "markdown",
   "metadata": {},
   "source": [
    "DEFINITION DU MODÈLE FINALE AVEC C = 1 ET NOYAU LINÉAIRE"
   ]
  },
  {
   "cell_type": "code",
   "execution_count": 15,
   "metadata": {},
   "outputs": [
    {
     "data": {
      "text/plain": [
       "SVC(C=1, kernel='linear')"
      ]
     },
     "execution_count": 15,
     "metadata": {},
     "output_type": "execute_result"
    }
   ],
   "source": [
    "model_final = SVC(kernel= 'linear' , C=1)\n",
    "model_final.fit(X_train, Y_train)\n",
    "\n",
    "    \n",
    "    "
   ]
  },
  {
   "cell_type": "code",
   "execution_count": 16,
   "metadata": {},
   "outputs": [
    {
     "name": "stdout",
     "output_type": "stream",
     "text": [
      "[ 5 28 22 32 36 19  6 11 16 12 26  5  8 22  4]\n",
      "[5, 28, 22, 32, 36, 19, 6, 11, 24, 12, 26, 5, 8, 22, 4]\n"
     ]
    }
   ],
   "source": [
    "print(model_final.predict(X_test[:15]))\n",
    "print(Y_test[:15])"
   ]
  },
  {
   "cell_type": "code",
   "execution_count": 17,
   "metadata": {},
   "outputs": [
    {
     "name": "stdout",
     "output_type": "stream",
     "text": [
      "\n",
      "prédiction du modèle avec noyau Linéaire: 96.25\n"
     ]
    }
   ],
   "source": [
    "accuracy = model2.score(X_test, Y_test)\n",
    "print('\\nprédiction du modèle avec noyau Linéaire:',accuracy*100)"
   ]
  },
  {
   "cell_type": "code",
   "execution_count": 18,
   "metadata": {},
   "outputs": [],
   "source": [
    "file_name = 'final_model.sav'\n",
    "pickle.dump(model2 , open(file_name , 'wb'))\n"
   ]
  },
  {
   "cell_type": "code",
   "execution_count": 19,
   "metadata": {},
   "outputs": [],
   "source": [
    "model = pickle.load(open(file_name , 'rb'))\n"
   ]
  },
  {
   "cell_type": "markdown",
   "metadata": {},
   "source": [
    "PREDICTION POUR UNE NOUVELLE DONNÉE"
   ]
  },
  {
   "cell_type": "code",
   "execution_count": 24,
   "metadata": {},
   "outputs": [],
   "source": [
    "def prediction(image, model, window = 10):\n",
    "    data = extract(image)\n",
    "    lbp = LBP_function(data)\n",
    "    histo = histogramme(lbp , window = 10)\n",
    "    histo = [histo]\n",
    "    rst = model.predict(histo)\n",
    "    return rst"
   ]
  },
  {
   "cell_type": "code",
   "execution_count": 25,
   "metadata": {},
   "outputs": [
    {
     "name": "stdout",
     "output_type": "stream",
     "text": [
      "[5]\n"
     ]
    }
   ],
   "source": [
    "m = prediction('archive (1)/s5/2.pgm', model_final)\n",
    "print(m)"
   ]
  },
  {
   "cell_type": "code",
   "execution_count": null,
   "metadata": {},
   "outputs": [],
   "source": []
  }
 ],
 "metadata": {
  "kernelspec": {
   "display_name": "Python 3",
   "language": "python",
   "name": "python3"
  },
  "language_info": {
   "codemirror_mode": {
    "name": "ipython",
    "version": 3
   },
   "file_extension": ".py",
   "mimetype": "text/x-python",
   "name": "python",
   "nbconvert_exporter": "python",
   "pygments_lexer": "ipython3",
   "version": "3.8.8"
  }
 },
 "nbformat": 4,
 "nbformat_minor": 2
}
